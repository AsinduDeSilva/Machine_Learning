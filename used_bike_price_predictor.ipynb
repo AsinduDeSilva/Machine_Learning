{
 "cells": [
  {
   "cell_type": "code",
   "id": "initial_id",
   "metadata": {
    "collapsed": true,
    "ExecuteTime": {
     "end_time": "2025-08-19T12:25:25.078483Z",
     "start_time": "2025-08-19T12:25:25.072935Z"
    }
   },
   "source": [
    "import pandas as pd\n",
    "import numpy as np\n",
    "import matplotlib.pyplot as plt\n",
    "from sklearn.linear_model import LinearRegression\n",
    "from sklearn.metrics import mean_squared_error, r2_score\n",
    "from sklearn.model_selection import train_test_split\n",
    "from sklearn.preprocessing import StandardScaler, PolynomialFeatures"
   ],
   "outputs": [],
   "execution_count": 416
  },
  {
   "metadata": {
    "ExecuteTime": {
     "end_time": "2025-08-19T12:25:25.173046Z",
     "start_time": "2025-08-19T12:25:25.140540Z"
    }
   },
   "cell_type": "code",
   "source": [
    "df = pd.read_csv(\"./data/used-bikes.csv\")\n",
    "df.head()"
   ],
   "id": "60476160fb76402",
   "outputs": [
    {
     "data": {
      "text/plain": [
       "                                             Summary  \\\n",
       "0  Atv beach bike 201435,000 kmKegalle, Motorbike...   \n",
       "1  Bajaj Pulsar 150 palsar 201450,737 kmAnuradhap...   \n",
       "2  Beach Buggy 20055,000 kmColombo, MotorbikesRs ...   \n",
       "3  Electra Alpha Vino 2019600 kmColombo, Motorbik...   \n",
       "4  Hero Maestro Edge 201818,500 kmMEMBERKalutara,...   \n",
       "\n",
       "                                                 url  \\\n",
       "0  https://ikman.lk/en/ad/atv-beach-bike-2014-for...   \n",
       "1  https://ikman.lk/en/ad/bajaj-pulsar-150-palsar...   \n",
       "2  https://ikman.lk/en/ad/beach-buggy-2005-for-sa...   \n",
       "3  https://ikman.lk/en/ad/electra-alfa-vino-2019-...   \n",
       "4  https://ikman.lk/en/ad/hero-maestro-edge-2018-...   \n",
       "\n",
       "                          Title  \\\n",
       "0           Atv beach bike 2014   \n",
       "1  Bajaj Pulsar 150 palsar 2014   \n",
       "2              Beach Buggy 2005   \n",
       "3       Electra Alpha Vino 2019   \n",
       "4        Hero Maestro Edge 2018   \n",
       "\n",
       "                                       Post_Details     Bike Type  \\\n",
       "0   Posted on 30 Jan 9:02 am, Kegalle City, Kegalle  Quadricycles   \n",
       "1  Posted on 11 Mar 1:58 pm, Kekirawa, Anuradhapura    Motorbikes   \n",
       "2   Posted on 21 Jan 9:45 pm, Talawatugoda, Colombo  Quadricycles   \n",
       "3       Posted on 22 Feb 2:26 pm, Moratuwa, Colombo       E-bikes   \n",
       "4   Posted on 07 Mar 2:08 pm, Bandaragama, Kalutara      Scooters   \n",
       "\n",
       "         Brand    Trim/Edition         Model  Year    Mileage  \\\n",
       "0  Other brand  Atv beach bike   Other model  2014  35,000 km   \n",
       "1        Bajaj      palsar 150    Pulsar 150  2014  50,737 km   \n",
       "2  Other brand     Beach Buggy   Other model  2005   5,000 km   \n",
       "3      Electra            Vino         Alpha  2019     600 km   \n",
       "4         Hero            2018  Maestro Edge  2018  18,500 km   \n",
       "\n",
       "                Seller Capacity       Price  \n",
       "0                lakee   150 cc  Rs 440,000  \n",
       "1         Sasila Ishan   150 cc  Rs 370,000  \n",
       "2      vinuka automart   125 cc  Rs 210,000  \n",
       "3  Jeewantha Basnayaka    49 cc  Rs 105,000  \n",
       "4       Anjalee Motors   110 cc   Rs 80,000  "
      ],
      "text/html": [
       "<div>\n",
       "<style scoped>\n",
       "    .dataframe tbody tr th:only-of-type {\n",
       "        vertical-align: middle;\n",
       "    }\n",
       "\n",
       "    .dataframe tbody tr th {\n",
       "        vertical-align: top;\n",
       "    }\n",
       "\n",
       "    .dataframe thead th {\n",
       "        text-align: right;\n",
       "    }\n",
       "</style>\n",
       "<table border=\"1\" class=\"dataframe\">\n",
       "  <thead>\n",
       "    <tr style=\"text-align: right;\">\n",
       "      <th></th>\n",
       "      <th>Summary</th>\n",
       "      <th>url</th>\n",
       "      <th>Title</th>\n",
       "      <th>Post_Details</th>\n",
       "      <th>Bike Type</th>\n",
       "      <th>Brand</th>\n",
       "      <th>Trim/Edition</th>\n",
       "      <th>Model</th>\n",
       "      <th>Year</th>\n",
       "      <th>Mileage</th>\n",
       "      <th>Seller</th>\n",
       "      <th>Capacity</th>\n",
       "      <th>Price</th>\n",
       "    </tr>\n",
       "  </thead>\n",
       "  <tbody>\n",
       "    <tr>\n",
       "      <th>0</th>\n",
       "      <td>Atv beach bike 201435,000 kmKegalle, Motorbike...</td>\n",
       "      <td>https://ikman.lk/en/ad/atv-beach-bike-2014-for...</td>\n",
       "      <td>Atv beach bike 2014</td>\n",
       "      <td>Posted on 30 Jan 9:02 am, Kegalle City, Kegalle</td>\n",
       "      <td>Quadricycles</td>\n",
       "      <td>Other brand</td>\n",
       "      <td>Atv beach bike</td>\n",
       "      <td>Other model</td>\n",
       "      <td>2014</td>\n",
       "      <td>35,000 km</td>\n",
       "      <td>lakee</td>\n",
       "      <td>150 cc</td>\n",
       "      <td>Rs 440,000</td>\n",
       "    </tr>\n",
       "    <tr>\n",
       "      <th>1</th>\n",
       "      <td>Bajaj Pulsar 150 palsar 201450,737 kmAnuradhap...</td>\n",
       "      <td>https://ikman.lk/en/ad/bajaj-pulsar-150-palsar...</td>\n",
       "      <td>Bajaj Pulsar 150 palsar 2014</td>\n",
       "      <td>Posted on 11 Mar 1:58 pm, Kekirawa, Anuradhapura</td>\n",
       "      <td>Motorbikes</td>\n",
       "      <td>Bajaj</td>\n",
       "      <td>palsar 150</td>\n",
       "      <td>Pulsar 150</td>\n",
       "      <td>2014</td>\n",
       "      <td>50,737 km</td>\n",
       "      <td>Sasila Ishan</td>\n",
       "      <td>150 cc</td>\n",
       "      <td>Rs 370,000</td>\n",
       "    </tr>\n",
       "    <tr>\n",
       "      <th>2</th>\n",
       "      <td>Beach Buggy 20055,000 kmColombo, MotorbikesRs ...</td>\n",
       "      <td>https://ikman.lk/en/ad/beach-buggy-2005-for-sa...</td>\n",
       "      <td>Beach Buggy 2005</td>\n",
       "      <td>Posted on 21 Jan 9:45 pm, Talawatugoda, Colombo</td>\n",
       "      <td>Quadricycles</td>\n",
       "      <td>Other brand</td>\n",
       "      <td>Beach Buggy</td>\n",
       "      <td>Other model</td>\n",
       "      <td>2005</td>\n",
       "      <td>5,000 km</td>\n",
       "      <td>vinuka automart</td>\n",
       "      <td>125 cc</td>\n",
       "      <td>Rs 210,000</td>\n",
       "    </tr>\n",
       "    <tr>\n",
       "      <th>3</th>\n",
       "      <td>Electra Alpha Vino 2019600 kmColombo, Motorbik...</td>\n",
       "      <td>https://ikman.lk/en/ad/electra-alfa-vino-2019-...</td>\n",
       "      <td>Electra Alpha Vino 2019</td>\n",
       "      <td>Posted on 22 Feb 2:26 pm, Moratuwa, Colombo</td>\n",
       "      <td>E-bikes</td>\n",
       "      <td>Electra</td>\n",
       "      <td>Vino</td>\n",
       "      <td>Alpha</td>\n",
       "      <td>2019</td>\n",
       "      <td>600 km</td>\n",
       "      <td>Jeewantha Basnayaka</td>\n",
       "      <td>49 cc</td>\n",
       "      <td>Rs 105,000</td>\n",
       "    </tr>\n",
       "    <tr>\n",
       "      <th>4</th>\n",
       "      <td>Hero Maestro Edge 201818,500 kmMEMBERKalutara,...</td>\n",
       "      <td>https://ikman.lk/en/ad/hero-maestro-edge-2018-...</td>\n",
       "      <td>Hero Maestro Edge 2018</td>\n",
       "      <td>Posted on 07 Mar 2:08 pm, Bandaragama, Kalutara</td>\n",
       "      <td>Scooters</td>\n",
       "      <td>Hero</td>\n",
       "      <td>2018</td>\n",
       "      <td>Maestro Edge</td>\n",
       "      <td>2018</td>\n",
       "      <td>18,500 km</td>\n",
       "      <td>Anjalee Motors</td>\n",
       "      <td>110 cc</td>\n",
       "      <td>Rs 80,000</td>\n",
       "    </tr>\n",
       "  </tbody>\n",
       "</table>\n",
       "</div>"
      ]
     },
     "execution_count": 417,
     "metadata": {},
     "output_type": "execute_result"
    }
   ],
   "execution_count": 417
  },
  {
   "metadata": {
    "ExecuteTime": {
     "end_time": "2025-08-19T12:25:25.208288Z",
     "start_time": "2025-08-19T12:25:25.198388Z"
    }
   },
   "cell_type": "code",
   "source": "df.info()",
   "id": "2b494ac46bc5a854",
   "outputs": [
    {
     "name": "stdout",
     "output_type": "stream",
     "text": [
      "<class 'pandas.core.frame.DataFrame'>\n",
      "RangeIndex: 5016 entries, 0 to 5015\n",
      "Data columns (total 13 columns):\n",
      " #   Column        Non-Null Count  Dtype \n",
      "---  ------        --------------  ----- \n",
      " 0   Summary       5016 non-null   object\n",
      " 1   url           5016 non-null   object\n",
      " 2   Title         5016 non-null   object\n",
      " 3   Post_Details  5016 non-null   object\n",
      " 4   Bike Type     5016 non-null   object\n",
      " 5   Brand         5016 non-null   object\n",
      " 6   Trim/Edition  3815 non-null   object\n",
      " 7   Model         5016 non-null   object\n",
      " 8   Year          5016 non-null   int64 \n",
      " 9   Mileage       5016 non-null   object\n",
      " 10  Seller        5013 non-null   object\n",
      " 11  Capacity      5016 non-null   object\n",
      " 12  Price         5016 non-null   object\n",
      "dtypes: int64(1), object(12)\n",
      "memory usage: 509.6+ KB\n"
     ]
    }
   ],
   "execution_count": 418
  },
  {
   "metadata": {
    "ExecuteTime": {
     "end_time": "2025-08-19T12:25:25.269620Z",
     "start_time": "2025-08-19T12:25:25.260598Z"
    }
   },
   "cell_type": "code",
   "source": "df.isnull().sum()",
   "id": "8e7802fc79feadd1",
   "outputs": [
    {
     "data": {
      "text/plain": [
       "Summary            0\n",
       "url                0\n",
       "Title              0\n",
       "Post_Details       0\n",
       "Bike Type          0\n",
       "Brand              0\n",
       "Trim/Edition    1201\n",
       "Model              0\n",
       "Year               0\n",
       "Mileage            0\n",
       "Seller             3\n",
       "Capacity           0\n",
       "Price              0\n",
       "dtype: int64"
      ]
     },
     "execution_count": 419,
     "metadata": {},
     "output_type": "execute_result"
    }
   ],
   "execution_count": 419
  },
  {
   "metadata": {
    "ExecuteTime": {
     "end_time": "2025-08-19T12:25:25.378528Z",
     "start_time": "2025-08-19T12:25:25.366990Z"
    }
   },
   "cell_type": "code",
   "source": [
    "df = df[['Year','Mileage','Capacity','Price']]\n",
    "df.head()"
   ],
   "id": "394d05bce0c4f8b9",
   "outputs": [
    {
     "data": {
      "text/plain": [
       "   Year    Mileage Capacity       Price\n",
       "0  2014  35,000 km   150 cc  Rs 440,000\n",
       "1  2014  50,737 km   150 cc  Rs 370,000\n",
       "2  2005   5,000 km   125 cc  Rs 210,000\n",
       "3  2019     600 km    49 cc  Rs 105,000\n",
       "4  2018  18,500 km   110 cc   Rs 80,000"
      ],
      "text/html": [
       "<div>\n",
       "<style scoped>\n",
       "    .dataframe tbody tr th:only-of-type {\n",
       "        vertical-align: middle;\n",
       "    }\n",
       "\n",
       "    .dataframe tbody tr th {\n",
       "        vertical-align: top;\n",
       "    }\n",
       "\n",
       "    .dataframe thead th {\n",
       "        text-align: right;\n",
       "    }\n",
       "</style>\n",
       "<table border=\"1\" class=\"dataframe\">\n",
       "  <thead>\n",
       "    <tr style=\"text-align: right;\">\n",
       "      <th></th>\n",
       "      <th>Year</th>\n",
       "      <th>Mileage</th>\n",
       "      <th>Capacity</th>\n",
       "      <th>Price</th>\n",
       "    </tr>\n",
       "  </thead>\n",
       "  <tbody>\n",
       "    <tr>\n",
       "      <th>0</th>\n",
       "      <td>2014</td>\n",
       "      <td>35,000 km</td>\n",
       "      <td>150 cc</td>\n",
       "      <td>Rs 440,000</td>\n",
       "    </tr>\n",
       "    <tr>\n",
       "      <th>1</th>\n",
       "      <td>2014</td>\n",
       "      <td>50,737 km</td>\n",
       "      <td>150 cc</td>\n",
       "      <td>Rs 370,000</td>\n",
       "    </tr>\n",
       "    <tr>\n",
       "      <th>2</th>\n",
       "      <td>2005</td>\n",
       "      <td>5,000 km</td>\n",
       "      <td>125 cc</td>\n",
       "      <td>Rs 210,000</td>\n",
       "    </tr>\n",
       "    <tr>\n",
       "      <th>3</th>\n",
       "      <td>2019</td>\n",
       "      <td>600 km</td>\n",
       "      <td>49 cc</td>\n",
       "      <td>Rs 105,000</td>\n",
       "    </tr>\n",
       "    <tr>\n",
       "      <th>4</th>\n",
       "      <td>2018</td>\n",
       "      <td>18,500 km</td>\n",
       "      <td>110 cc</td>\n",
       "      <td>Rs 80,000</td>\n",
       "    </tr>\n",
       "  </tbody>\n",
       "</table>\n",
       "</div>"
      ]
     },
     "execution_count": 420,
     "metadata": {},
     "output_type": "execute_result"
    }
   ],
   "execution_count": 420
  },
  {
   "metadata": {
    "ExecuteTime": {
     "end_time": "2025-08-19T12:25:25.461580Z",
     "start_time": "2025-08-19T12:25:25.454416Z"
    }
   },
   "cell_type": "code",
   "source": "df.isnull().sum()",
   "id": "ab38f8e55cc7ea0d",
   "outputs": [
    {
     "data": {
      "text/plain": [
       "Year        0\n",
       "Mileage     0\n",
       "Capacity    0\n",
       "Price       0\n",
       "dtype: int64"
      ]
     },
     "execution_count": 421,
     "metadata": {},
     "output_type": "execute_result"
    }
   ],
   "execution_count": 421
  },
  {
   "metadata": {
    "ExecuteTime": {
     "end_time": "2025-08-19T12:25:25.599363Z",
     "start_time": "2025-08-19T12:25:25.557431Z"
    }
   },
   "cell_type": "code",
   "source": [
    "df['Mileage'] = df['Mileage'].replace([',',' km'], '', regex=True).astype(int)\n",
    "df['Capacity'] = df['Capacity'].replace([' cc', ','], '', regex=True).astype(int)\n",
    "df['Price'] = df['Price'].replace(['Rs ',','], '', regex=True).astype(int)\n",
    "\n",
    "df = df[df['Capacity'].between(48, 900)]\n",
    "df"
   ],
   "id": "8b7d6364a12cc9df",
   "outputs": [
    {
     "data": {
      "text/plain": [
       "      Year  Mileage  Capacity    Price\n",
       "0     2014    35000       150   440000\n",
       "1     2014    50737       150   370000\n",
       "2     2005     5000       125   210000\n",
       "3     2019      600        49   105000\n",
       "4     2018    18500       110    80000\n",
       "...    ...      ...       ...      ...\n",
       "5011  2015    30000       250   580000\n",
       "5012  1988    20000        50   125000\n",
       "5013  2015    32270       125   250000\n",
       "5014  2018    12780       125   320000\n",
       "5015  2017    18000       321  1550000\n",
       "\n",
       "[4995 rows x 4 columns]"
      ],
      "text/html": [
       "<div>\n",
       "<style scoped>\n",
       "    .dataframe tbody tr th:only-of-type {\n",
       "        vertical-align: middle;\n",
       "    }\n",
       "\n",
       "    .dataframe tbody tr th {\n",
       "        vertical-align: top;\n",
       "    }\n",
       "\n",
       "    .dataframe thead th {\n",
       "        text-align: right;\n",
       "    }\n",
       "</style>\n",
       "<table border=\"1\" class=\"dataframe\">\n",
       "  <thead>\n",
       "    <tr style=\"text-align: right;\">\n",
       "      <th></th>\n",
       "      <th>Year</th>\n",
       "      <th>Mileage</th>\n",
       "      <th>Capacity</th>\n",
       "      <th>Price</th>\n",
       "    </tr>\n",
       "  </thead>\n",
       "  <tbody>\n",
       "    <tr>\n",
       "      <th>0</th>\n",
       "      <td>2014</td>\n",
       "      <td>35000</td>\n",
       "      <td>150</td>\n",
       "      <td>440000</td>\n",
       "    </tr>\n",
       "    <tr>\n",
       "      <th>1</th>\n",
       "      <td>2014</td>\n",
       "      <td>50737</td>\n",
       "      <td>150</td>\n",
       "      <td>370000</td>\n",
       "    </tr>\n",
       "    <tr>\n",
       "      <th>2</th>\n",
       "      <td>2005</td>\n",
       "      <td>5000</td>\n",
       "      <td>125</td>\n",
       "      <td>210000</td>\n",
       "    </tr>\n",
       "    <tr>\n",
       "      <th>3</th>\n",
       "      <td>2019</td>\n",
       "      <td>600</td>\n",
       "      <td>49</td>\n",
       "      <td>105000</td>\n",
       "    </tr>\n",
       "    <tr>\n",
       "      <th>4</th>\n",
       "      <td>2018</td>\n",
       "      <td>18500</td>\n",
       "      <td>110</td>\n",
       "      <td>80000</td>\n",
       "    </tr>\n",
       "    <tr>\n",
       "      <th>...</th>\n",
       "      <td>...</td>\n",
       "      <td>...</td>\n",
       "      <td>...</td>\n",
       "      <td>...</td>\n",
       "    </tr>\n",
       "    <tr>\n",
       "      <th>5011</th>\n",
       "      <td>2015</td>\n",
       "      <td>30000</td>\n",
       "      <td>250</td>\n",
       "      <td>580000</td>\n",
       "    </tr>\n",
       "    <tr>\n",
       "      <th>5012</th>\n",
       "      <td>1988</td>\n",
       "      <td>20000</td>\n",
       "      <td>50</td>\n",
       "      <td>125000</td>\n",
       "    </tr>\n",
       "    <tr>\n",
       "      <th>5013</th>\n",
       "      <td>2015</td>\n",
       "      <td>32270</td>\n",
       "      <td>125</td>\n",
       "      <td>250000</td>\n",
       "    </tr>\n",
       "    <tr>\n",
       "      <th>5014</th>\n",
       "      <td>2018</td>\n",
       "      <td>12780</td>\n",
       "      <td>125</td>\n",
       "      <td>320000</td>\n",
       "    </tr>\n",
       "    <tr>\n",
       "      <th>5015</th>\n",
       "      <td>2017</td>\n",
       "      <td>18000</td>\n",
       "      <td>321</td>\n",
       "      <td>1550000</td>\n",
       "    </tr>\n",
       "  </tbody>\n",
       "</table>\n",
       "<p>4995 rows × 4 columns</p>\n",
       "</div>"
      ]
     },
     "execution_count": 422,
     "metadata": {},
     "output_type": "execute_result"
    }
   ],
   "execution_count": 422
  },
  {
   "metadata": {
    "ExecuteTime": {
     "end_time": "2025-08-19T12:25:25.891388Z",
     "start_time": "2025-08-19T12:25:25.883456Z"
    }
   },
   "cell_type": "code",
   "source": "df.corr()",
   "id": "3aeeffd73163d9f2",
   "outputs": [
    {
     "data": {
      "text/plain": [
       "              Year   Mileage  Capacity     Price\n",
       "Year      1.000000 -0.337573  0.079962  0.254011\n",
       "Mileage  -0.337573  1.000000 -0.019427 -0.108313\n",
       "Capacity  0.079962 -0.019427  1.000000  0.541772\n",
       "Price     0.254011 -0.108313  0.541772  1.000000"
      ],
      "text/html": [
       "<div>\n",
       "<style scoped>\n",
       "    .dataframe tbody tr th:only-of-type {\n",
       "        vertical-align: middle;\n",
       "    }\n",
       "\n",
       "    .dataframe tbody tr th {\n",
       "        vertical-align: top;\n",
       "    }\n",
       "\n",
       "    .dataframe thead th {\n",
       "        text-align: right;\n",
       "    }\n",
       "</style>\n",
       "<table border=\"1\" class=\"dataframe\">\n",
       "  <thead>\n",
       "    <tr style=\"text-align: right;\">\n",
       "      <th></th>\n",
       "      <th>Year</th>\n",
       "      <th>Mileage</th>\n",
       "      <th>Capacity</th>\n",
       "      <th>Price</th>\n",
       "    </tr>\n",
       "  </thead>\n",
       "  <tbody>\n",
       "    <tr>\n",
       "      <th>Year</th>\n",
       "      <td>1.000000</td>\n",
       "      <td>-0.337573</td>\n",
       "      <td>0.079962</td>\n",
       "      <td>0.254011</td>\n",
       "    </tr>\n",
       "    <tr>\n",
       "      <th>Mileage</th>\n",
       "      <td>-0.337573</td>\n",
       "      <td>1.000000</td>\n",
       "      <td>-0.019427</td>\n",
       "      <td>-0.108313</td>\n",
       "    </tr>\n",
       "    <tr>\n",
       "      <th>Capacity</th>\n",
       "      <td>0.079962</td>\n",
       "      <td>-0.019427</td>\n",
       "      <td>1.000000</td>\n",
       "      <td>0.541772</td>\n",
       "    </tr>\n",
       "    <tr>\n",
       "      <th>Price</th>\n",
       "      <td>0.254011</td>\n",
       "      <td>-0.108313</td>\n",
       "      <td>0.541772</td>\n",
       "      <td>1.000000</td>\n",
       "    </tr>\n",
       "  </tbody>\n",
       "</table>\n",
       "</div>"
      ]
     },
     "execution_count": 423,
     "metadata": {},
     "output_type": "execute_result"
    }
   ],
   "execution_count": 423
  },
  {
   "metadata": {
    "ExecuteTime": {
     "end_time": "2025-08-19T12:25:25.957371Z",
     "start_time": "2025-08-19T12:25:25.944136Z"
    }
   },
   "cell_type": "code",
   "source": "df.describe()",
   "id": "e272b5dca48d374f",
   "outputs": [
    {
     "data": {
      "text/plain": [
       "              Year        Mileage     Capacity         Price\n",
       "count  4995.000000    4995.000000  4995.000000  4.995000e+03\n",
       "mean   2013.245245   45122.362162   133.062663  3.159423e+05\n",
       "std       7.367065   63218.432080    43.703467  2.356367e+05\n",
       "min    1923.000000      75.000000    48.000000  1.700000e+04\n",
       "25%    2011.000000   20000.000000   110.000000  1.500000e+05\n",
       "50%    2016.000000   32265.000000   125.000000  2.550000e+05\n",
       "75%    2018.000000   50000.000000   150.000000  4.400000e+05\n",
       "max    2022.000000  950000.000000   749.000000  2.500000e+06"
      ],
      "text/html": [
       "<div>\n",
       "<style scoped>\n",
       "    .dataframe tbody tr th:only-of-type {\n",
       "        vertical-align: middle;\n",
       "    }\n",
       "\n",
       "    .dataframe tbody tr th {\n",
       "        vertical-align: top;\n",
       "    }\n",
       "\n",
       "    .dataframe thead th {\n",
       "        text-align: right;\n",
       "    }\n",
       "</style>\n",
       "<table border=\"1\" class=\"dataframe\">\n",
       "  <thead>\n",
       "    <tr style=\"text-align: right;\">\n",
       "      <th></th>\n",
       "      <th>Year</th>\n",
       "      <th>Mileage</th>\n",
       "      <th>Capacity</th>\n",
       "      <th>Price</th>\n",
       "    </tr>\n",
       "  </thead>\n",
       "  <tbody>\n",
       "    <tr>\n",
       "      <th>count</th>\n",
       "      <td>4995.000000</td>\n",
       "      <td>4995.000000</td>\n",
       "      <td>4995.000000</td>\n",
       "      <td>4.995000e+03</td>\n",
       "    </tr>\n",
       "    <tr>\n",
       "      <th>mean</th>\n",
       "      <td>2013.245245</td>\n",
       "      <td>45122.362162</td>\n",
       "      <td>133.062663</td>\n",
       "      <td>3.159423e+05</td>\n",
       "    </tr>\n",
       "    <tr>\n",
       "      <th>std</th>\n",
       "      <td>7.367065</td>\n",
       "      <td>63218.432080</td>\n",
       "      <td>43.703467</td>\n",
       "      <td>2.356367e+05</td>\n",
       "    </tr>\n",
       "    <tr>\n",
       "      <th>min</th>\n",
       "      <td>1923.000000</td>\n",
       "      <td>75.000000</td>\n",
       "      <td>48.000000</td>\n",
       "      <td>1.700000e+04</td>\n",
       "    </tr>\n",
       "    <tr>\n",
       "      <th>25%</th>\n",
       "      <td>2011.000000</td>\n",
       "      <td>20000.000000</td>\n",
       "      <td>110.000000</td>\n",
       "      <td>1.500000e+05</td>\n",
       "    </tr>\n",
       "    <tr>\n",
       "      <th>50%</th>\n",
       "      <td>2016.000000</td>\n",
       "      <td>32265.000000</td>\n",
       "      <td>125.000000</td>\n",
       "      <td>2.550000e+05</td>\n",
       "    </tr>\n",
       "    <tr>\n",
       "      <th>75%</th>\n",
       "      <td>2018.000000</td>\n",
       "      <td>50000.000000</td>\n",
       "      <td>150.000000</td>\n",
       "      <td>4.400000e+05</td>\n",
       "    </tr>\n",
       "    <tr>\n",
       "      <th>max</th>\n",
       "      <td>2022.000000</td>\n",
       "      <td>950000.000000</td>\n",
       "      <td>749.000000</td>\n",
       "      <td>2.500000e+06</td>\n",
       "    </tr>\n",
       "  </tbody>\n",
       "</table>\n",
       "</div>"
      ]
     },
     "execution_count": 424,
     "metadata": {},
     "output_type": "execute_result"
    }
   ],
   "execution_count": 424
  },
  {
   "metadata": {
    "ExecuteTime": {
     "end_time": "2025-08-19T12:25:26.260013Z",
     "start_time": "2025-08-19T12:25:26.023927Z"
    }
   },
   "cell_type": "code",
   "source": [
    "df.hist()\n",
    "plt.show()"
   ],
   "id": "64c34d3bb4f0730d",
   "outputs": [
    {
     "data": {
      "text/plain": [
       "<Figure size 640x480 with 4 Axes>"
      ],
      "image/png": "[encoded data removed]"
     },
     "metadata": {},
     "output_type": "display_data"
    }
   ],
   "execution_count": 425
  },
  {
   "metadata": {
    "ExecuteTime": {
     "end_time": "2025-08-19T12:25:26.291840Z",
     "start_time": "2025-08-19T12:25:26.287628Z"
    }
   },
   "cell_type": "code",
   "source": [
    "X = df.drop('Price', axis=1).to_numpy()\n",
    "y = df.Price"
   ],
   "id": "4c804d51a2296b0a",
   "outputs": [],
   "execution_count": 426
  },
  {
   "metadata": {
    "ExecuteTime": {
     "end_time": "2025-08-19T12:25:26.488868Z",
     "start_time": "2025-08-19T12:25:26.303634Z"
    }
   },
   "cell_type": "code",
   "source": [
    "fig, axs = plt.subplots(1, 3, figsize=(12, 5))\n",
    "\n",
    "x_labels = ['Year', 'Mileage', 'Capacity']\n",
    "for i in range(3) :\n",
    "    axs[i].scatter(X[:,i], y, marker='x', c='r')\n",
    "    axs[i].set_xlabel(x_labels[i])\n",
    "\n",
    "axs[0].set_ylabel('Price')\n",
    "plt.show()"
   ],
   "id": "5ba3fbbd9450ef44",
   "outputs": [
    {
     "data": {
      "text/plain": [
       "<Figure size 1200x500 with 3 Axes>"
      ],
      "image/png": "[encoded data removed]"
     },
     "metadata": {},
     "output_type": "display_data"
    }
   ],
   "execution_count": 427
  },
  {
   "metadata": {
    "ExecuteTime": {
     "end_time": "2025-08-19T12:25:26.523685Z",
     "start_time": "2025-08-19T12:25:26.516018Z"
    }
   },
   "cell_type": "code",
   "source": [
    "X_train, X_, y_train, y_ = train_test_split(X,y, test_size=0.40, random_state=10)\n",
    "X_cv, X_test, y_cv, y_test = train_test_split(X_,y_, test_size=0.50, random_state=10)\n",
    "\n",
    "del X_, y_\n",
    "\n",
    "print(f\"Shape of the training set (input) is: {X_train.shape}\")\n",
    "print(f\"Shape of the training set (target) is: {y_train.shape}\\n\")\n",
    "print(f\"Shape of the cross validation set (input) is: {X_cv.shape}\")\n",
    "print(f\"Shape of the cross validation set (target) is: {y_cv.shape}\\n\")\n",
    "print(f\"Shape of the test set (input) is: {X_test.shape}\")\n",
    "print(f\"Shape of the test set (target) is: {y_test.shape}\")"
   ],
   "id": "abe752409d42f476",
   "outputs": [
    {
     "name": "stdout",
     "output_type": "stream",
     "text": [
      "Shape of the training set (input) is: (2997, 3)\n",
      "Shape of the training set (target) is: (2997,)\n",
      "\n",
      "Shape of the cross validation set (input) is: (999, 3)\n",
      "Shape of the cross validation set (target) is: (999,)\n",
      "\n",
      "Shape of the test set (input) is: (999, 3)\n",
      "Shape of the test set (target) is: (999,)\n"
     ]
    }
   ],
   "execution_count": 428
  },
  {
   "metadata": {
    "ExecuteTime": {
     "end_time": "2025-08-19T12:25:26.628567Z",
     "start_time": "2025-08-19T12:25:26.601716Z"
    }
   },
   "cell_type": "code",
   "source": [
    "train_mses = []\n",
    "cv_mses = []\n",
    "models = []\n",
    "scalers = []\n",
    "polys = []\n",
    "\n",
    "for degree in range(1, 5) :    \n",
    "    \n",
    "    poly = PolynomialFeatures(degree, include_bias=False)\n",
    "    X_train_mapped = poly.fit_transform(X_train)\n",
    "    polys.append(poly)\n",
    "    \n",
    "    scaler = StandardScaler()\n",
    "    X_train_mapped_scaled = scaler.fit_transform(X_train_mapped)\n",
    "    scalers.append(scaler)\n",
    "    \n",
    "    model = LinearRegression(n_jobs=-1)\n",
    "    model.fit(X_train_mapped_scaled, y_train)\n",
    "    models.append(model)\n",
    "    \n",
    "    yhat = model.predict(X_train_mapped_scaled)\n",
    "    train_mse = mean_squared_error(yhat, y_train) / 2\n",
    "    train_mses.append(train_mse)\n",
    "    \n",
    "    X_cv_mapped = poly.transform(X_cv)\n",
    "    X_cv_mapped_scaled = scaler.transform(X_cv_mapped)\n",
    "    \n",
    "    yhat = model.predict(X_cv_mapped_scaled)\n",
    "    cv_mse = mean_squared_error(y_cv, yhat) / 2\n",
    "    cv_mses.append(cv_mse)\n",
    "  \n",
    "print(train_mses)\n",
    "print(cv_mses)"
   ],
   "id": "73c5ec8f9fdac34a",
   "outputs": [
    {
     "name": "stdout",
     "output_type": "stream",
     "text": [
      "[19616680155.271072, 18631928884.310135, 16883320956.545124, 15846550588.908361]\n",
      "[16776710085.036068, 18093681560.02559, 24240589760.66092, 58235980277.39148]\n"
     ]
    }
   ],
   "execution_count": 429
  },
  {
   "metadata": {
    "ExecuteTime": {
     "end_time": "2025-08-19T12:25:26.814766Z",
     "start_time": "2025-08-19T12:25:26.727635Z"
    }
   },
   "cell_type": "code",
   "source": [
    "degrees = range(1,5)\n",
    "plt.plot(degrees, train_mses, marker='o', c='r', label='Training MSEs')\n",
    "plt.plot(degrees, cv_mses, marker='o', c='b', label='CV MSEs')\n",
    "plt.title(\"Degree of polynomial vs. train and CV MSEs\")\n",
    "plt.xlabel(\"degree\")\n",
    "plt.ylabel(\"MSE\") \n",
    "plt.legend()\n",
    "plt.show()"
   ],
   "id": "5f833651d4585bb8",
   "outputs": [
    {
     "data": {
      "text/plain": [
       "<Figure size 640x480 with 1 Axes>"
      ],
      "image/png": "[encoded data removed]"
     },
     "metadata": {},
     "output_type": "display_data"
    }
   ],
   "execution_count": 430
  },
  {
   "metadata": {
    "ExecuteTime": {
     "end_time": "2025-08-19T12:25:26.849460Z",
     "start_time": "2025-08-19T12:25:26.841879Z"
    }
   },
   "cell_type": "code",
   "source": [
    "degree = np.argmin(cv_mses) + 1\n",
    "print(f\"Lowest CV MSE is found in the model with degree={degree}\")\n",
    "\n",
    "X_test_mapped = polys[degree-1].transform(X_test)\n",
    "X_test_mapped_scaled = scalers[degree-1].transform(X_test_mapped)\n",
    "yhat = models[degree-1].predict(X_test_mapped_scaled)\n",
    "test_mse = mean_squared_error(yhat, y_test)/2\n",
    "\n",
    "print(f\"Train MSE : {train_mses[degree-1]}\")\n",
    "print(f\"CV MSE : {cv_mses[degree-1]}\")\n",
    "print(f\"Test MSE : {test_mse}\")\n",
    "print(f\"R² : {r2_score(y_test, yhat)}\")"
   ],
   "id": "7e7e28cd1eded2bd",
   "outputs": [
    {
     "name": "stdout",
     "output_type": "stream",
     "text": [
      "Lowest CV MSE is found in the model with degree=1\n",
      "Train MSE : 19616680155.271072\n",
      "CV MSE : 16776710085.036068\n",
      "Test MSE : 16171212441.368755\n",
      "R² : 0.34085754716001737\n"
     ]
    }
   ],
   "execution_count": 431
  },
  {
   "metadata": {},
   "cell_type": "markdown",
   "source": "## Using Model to Predict",
   "id": "c5531da9c40e92b"
  },
  {
   "metadata": {
    "ExecuteTime": {
     "end_time": "2025-08-19T12:25:26.880071Z",
     "start_time": "2025-08-19T12:25:26.874626Z"
    }
   },
   "cell_type": "code",
   "source": [
    "year = 2021\n",
    "mileage = 50000\n",
    "capacity = 400\n",
    "\n",
    "X_mapped = polys[degree-1].transform([[year, mileage, capacity]])\n",
    "X_mapped_scaled = scalers[degree-1].transform(X_mapped)\n",
    "print(f\"Predicted price : Rs. {models[degree-1].predict(X_mapped_scaled)[0]:.2f}\")"
   ],
   "id": "423f0d09f182919a",
   "outputs": [
    {
     "name": "stdout",
     "output_type": "stream",
     "text": [
      "Predicted price : Rs. 1131386.71\n"
     ]
    }
   ],
   "execution_count": 432
  },
  {
   "metadata": {
    "ExecuteTime": {
     "end_time": "2025-08-19T12:25:26.907969Z",
     "start_time": "2025-08-19T12:25:26.904671Z"
    }
   },
   "cell_type": "code",
   "source": "",
   "id": "24a01f517158bc7a",
   "outputs": [],
   "execution_count": null
  }
 ],
 "metadata": {
  "kernelspec": {
   "display_name": "Python 3",
   "language": "python",
   "name": "python3"
  },
  "language_info": {
   "codemirror_mode": {
    "name": "ipython",
    "version": 2
   },
   "file_extension": ".py",
   "mimetype": "text/x-python",
   "name": "python",
   "nbconvert_exporter": "python",
   "pygments_lexer": "ipython2",
   "version": "2.7.6"
  }
 },
 "nbformat": 4,
 "nbformat_minor": 5
}
